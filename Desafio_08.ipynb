{
  "cells": [
    {
      "cell_type": "markdown",
      "metadata": {
        "id": "view-in-github",
        "colab_type": "text"
      },
      "source": [
        "<a href=\"https://colab.research.google.com/github/pedroh-rocha/br-python-challenges/blob/master/Desafio_08.ipynb\" target=\"_parent\"><img src=\"https://colab.research.google.com/assets/colab-badge.svg\" alt=\"Open In Colab\"/></a>"
      ]
    },
    {
      "cell_type": "markdown",
      "metadata": {
        "id": "o3tkeMDNf6Jo"
      },
      "source": [
        "### Desafio 8\n",
        "\n",
        "Escreva um script Python para encontrar as 10 palavras mais longas em um arquivo de texto.\n",
        "O arquivo .txt está localizado na mesma pasta do projeto (**texto.txt**)."
      ]
    },
    {
      "cell_type": "code",
      "execution_count": 2,
      "metadata": {
        "colab": {
          "base_uri": "https://localhost:8080/"
        },
        "id": "EknxjSG0f6Jo",
        "outputId": "b60bc6e3-83be-474d-d777-e2a6d0e019f8"
      },
      "outputs": [
        {
          "output_type": "stream",
          "name": "stdout",
          "text": [
            "comprehensive 13\n",
            "intermediate 12\n",
            "interpreted 11\n",
            "programming 11\n",
            "readability 11\n",
            "programmers 11\n",
            "philosophy 10\n",
            "emphasizes 10\n",
            "imperative 10\n",
            "functional 10\n"
          ]
        }
      ],
      "source": [
        "from operator import itemgetter\n",
        "with open('texto.txt', 'r') as f:\n",
        "    dic = {}    \n",
        "    conteudo = f.read().replace('.', ' ').replace('-', ' ').replace(',', ' ').replace(')', ' ')\n",
        "    for palavra in conteudo.split():\n",
        "        dic[f'{palavra}'] = len(palavra)\n",
        "        ordem = sorted(dic.items(), key=itemgetter(1), reverse=True)\n",
        "    for k, v in enumerate(ordem):\n",
        "        if k < 10:\n",
        "            print(v[0], v[1])"
      ]
    },
    {
      "cell_type": "code",
      "execution_count": null,
      "metadata": {
        "id": "ZYbqEWBG5nKx"
      },
      "outputs": [],
      "source": [
        ""
      ]
    }
  ],
  "metadata": {
    "anaconda-cloud": {},
    "colab": {
      "name": "Desafio 8.ipynb",
      "provenance": [],
      "include_colab_link": true
    },
    "kernelspec": {
      "display_name": "Python 3",
      "language": "python",
      "name": "python3"
    },
    "language_info": {
      "codemirror_mode": {
        "name": "ipython",
        "version": 3
      },
      "file_extension": ".py",
      "mimetype": "text/x-python",
      "name": "python",
      "nbconvert_exporter": "python",
      "pygments_lexer": "ipython3",
      "version": "3.7.9"
    }
  },
  "nbformat": 4,
  "nbformat_minor": 0
}